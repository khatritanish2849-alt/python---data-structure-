{
  "nbformat": 4,
  "nbformat_minor": 0,
  "metadata": {
    "colab": {
      "provenance": []
    },
    "kernelspec": {
      "name": "python3",
      "display_name": "Python 3"
    },
    "language_info": {
      "name": "python"
    }
  },
  "cells": [
    {
      "cell_type": "markdown",
      "source": [
        "#PYTHON - DATA STRUCTURE\n",
        "**bold text**"
      ],
      "metadata": {
        "id": "UFekYFWQwow8"
      }
    },
    {
      "cell_type": "markdown",
      "source": [],
      "metadata": {
        "id": "t5Xbkzzn47kJ"
      }
    },
    {
      "cell_type": "code",
      "execution_count": null,
      "metadata": {
        "id": "-e374AdQtNP_"
      },
      "outputs": [],
      "source": [
        "Data Types and Structures Questions :"
      ]
    },
    {
      "cell_type": "markdown",
      "source": [
        "1.What are data structures, and why are they important?\n",
        "    ->Data structures are ways of organizing and storing data so that it can be used efficiently. They are important because they determine how data is accessed, modified, and stored, impacting performance and ease of problem-solving.   "
      ],
      "metadata": {
        "id": "r7yVcDP9yuOW"
      }
    },
    {
      "cell_type": "markdown",
      "source": [
        "2.Explain the difference between mutable and immutable data types with examples.\n",
        "    ->Mutable: Can be changed after creation. Example: list, dict, set.\n",
        "    x = [1, 2, 3]\n",
        "    x.append(4)  # Modified\n",
        "    ->Immutable: Cannot be changed after creation. Example: tuple, str.\n",
        "    y = \"hello\"\n",
        "    # y[0] = 'H' → Error\n"
      ],
      "metadata": {
        "id": "JFFqBquuzWY0"
      }
    },
    {
      "cell_type": "markdown",
      "source": [
        "3.What are the main differences between lists and tuples in Python?\n",
        "    ->List: Mutable, dynamic size, slower, defined with [].\n",
        "    Tuple: Immutable, fixed size, faster, defined with ()."
      ],
      "metadata": {
        "id": "s5N-duO_z50Q"
      }
    },
    {
      "cell_type": "markdown",
      "source": [
        "4.Describe how dictionaries store data.\n",
        "    ->Dictionaries store data as key-value pairs using a hash table. Keys must be immutable and unique; values can be of any type.\n",
        "    "
      ],
      "metadata": {
        "id": "IThVfijD0Du2"
      }
    },
    {
      "cell_type": "markdown",
      "source": [
        "5.Why might you use a set instead of a list in Python?\n",
        "    ->Removes duplicates automatically.\n",
        "    Provides faster membership checks (in)."
      ],
      "metadata": {
        "id": "XC6IhOWc0X1G"
      }
    },
    {
      "cell_type": "markdown",
      "source": [
        "6.What is a string in Python, and how is it different from a list?\n",
        "    ->A string is an immutable sequence of characters.\n",
        "    A list is mutable and can hold elements of different types."
      ],
      "metadata": {
        "id": "SOnjBcsQ0igu"
      }
    },
    {
      "cell_type": "markdown",
      "source": [
        "7.How do tuples ensure data integrity in Python?\n",
        "    ->Tuples are immutable, so once created, their contents cannot be altered, ensuring data consistency.\n"
      ],
      "metadata": {
        "id": "ZO6DVdge0tKm"
      }
    },
    {
      "cell_type": "markdown",
      "source": [
        "8.What is a hash table, and how does it relate to dictionaries in Python?\n",
        "    ->A hash table is a data structure that maps keys to values using a hash function. Python dictionaries are implemented using hash tables."
      ],
      "metadata": {
        "id": "REYemQFQ05Qs"
      }
    },
    {
      "cell_type": "markdown",
      "source": [
        "9.Can lists contain different data types in Python?\n",
        "    ->Yes, a single list can contain integers, strings, floats, and even other lists."
      ],
      "metadata": {
        "id": "3pBZ5fkX1G6a"
      }
    },
    {
      "cell_type": "markdown",
      "source": [
        "10.Why are strings immutable in Python?\n",
        "    ->Because they are stored as fixed sequences in memory for efficiency and security. Modifying them would require creating a new object."
      ],
      "metadata": {
        "id": "VbQ_RM301nSQ"
      }
    },
    {
      "cell_type": "markdown",
      "source": [
        "11.What advantages do dictionaries offer over lists for certain tasks?\n",
        "    ->Faster data lookup (O(1) vs O(n)).\n",
        "    Key-based access instead of index-based.\n",
        "    Can model real-world key-value relationships."
      ],
      "metadata": {
        "id": "0gqukm1Z10Kf"
      }
    },
    {
      "cell_type": "markdown",
      "source": [
        "12.Describe a scenario where using a tuple would be preferable over a list.\n",
        "    ->When storing constant data that should not change, like GPS coordinates (28.6, 77.2) or days of the week."
      ],
      "metadata": {
        "id": "dm0388ls2DvK"
      }
    },
    {
      "cell_type": "markdown",
      "source": [
        "13.How do sets handle duplicate values in Python?\n",
        "    ->Sets automatically remove duplicates, keeping only unique elements."
      ],
      "metadata": {
        "id": "-CxasMeu2T9q"
      }
    },
    {
      "cell_type": "markdown",
      "source": [
        "14.How does the \"in\" keyword work differently for lists and dictionaries?\n",
        "    ->List: Checks if a value exists.\n",
        "    Dictionary: Checks if a key exists."
      ],
      "metadata": {
        "id": "h07omp6K2mAE"
      }
    },
    {
      "cell_type": "markdown",
      "source": [
        "15.Can you modify the elements of a tuple? Explain why or why not.\n",
        "    ->No, tuples are immutable. However, if a tuple contains a mutable element (like a list), that element can be modified."
      ],
      "metadata": {
        "id": "OJZLbpv03rhT"
      }
    },
    {
      "cell_type": "markdown",
      "source": [
        "16.What is a nested dictionary, and give an example of its use case?\n",
        "    ->A dictionary containing other dictionaries.\n",
        "    student = {\"name\": \"John\", \"marks\": {\"math\": 90, \"science\": 85}}\n",
        "    Useful for representing hierarchical data."
      ],
      "metadata": {
        "id": "1OHUGwqF3zLa"
      }
    },
    {
      "cell_type": "markdown",
      "source": [
        "17.Describe the time complexity of accessing elements in a dictionary.\n",
        "    ->Average case: O(1) using hashing.\n",
        "    Worst case (hash collisions): O(n)."
      ],
      "metadata": {
        "id": "dJDVmZgu4IAM"
      }
    },
    {
      "cell_type": "markdown",
      "source": [
        "18.In what situations are lists preferred over dictionaries?\n",
        "    ->When data order matters.\n",
        "    When duplicate values are allowed.\n",
        "    When you need indexed access."
      ],
      "metadata": {
        "id": "vWaoWQ_04VrN"
      }
    },
    {
      "cell_type": "markdown",
      "source": [
        "19.Why are dictionaries considered unordered, and how does that affect data retrieval?\n",
        "    ->Older versions (<3.7) did not guarantee order since they were hash-based. Retrieval is based on keys, not position. In Python 3.7+, insertion order is preserved."
      ],
      "metadata": {
        "id": "E6FbqVVT4kG7"
      }
    },
    {
      "cell_type": "markdown",
      "source": [
        "20.Explain the difference between a list and a dictionary in terms of data retrieval.\n",
        "    ->List: Access by index (position).\n",
        "    Dictionary: Access by key."
      ],
      "metadata": {
        "id": "ao7aekdH4tKT"
      }
    },
    {
      "cell_type": "markdown",
      "source": [
        "#PRACTICAL QUESTIONS:\n"
      ],
      "metadata": {
        "id": "owFTMakb5Iz7"
      }
    },
    {
      "cell_type": "markdown",
      "source": [
        "1.Write a code to create a string with your name and print it.\n",
        "    ->name = \"Tanish\"\n",
        "    print(name)"
      ],
      "metadata": {
        "id": "VlDYpApQ5Qgk"
      }
    },
    {
      "cell_type": "markdown",
      "source": [
        "2.Write a code to find the length of the string \"Hello World\".\n",
        "    ->print(len(\"Hello World\"))"
      ],
      "metadata": {
        "id": "SNSiPNdI5n-w"
      }
    },
    {
      "cell_type": "markdown",
      "source": [
        "3.Write a code to slice the first 3 characters from the string \"Python Programming\".\n",
        "    ->s = \"Python Programming\"\n",
        "    print(s[:3])"
      ],
      "metadata": {
        "id": "pavF8zu95x2X"
      }
    },
    {
      "cell_type": "markdown",
      "source": [
        "4.Write a code to convert the string \"hello\" to uppercase.\n",
        "    ->print(\"hello\".upper())"
      ],
      "metadata": {
        "id": "_h-lSgxR5_O8"
      }
    },
    {
      "cell_type": "markdown",
      "source": [
        "5.Write a code to replace the word \"apple\" with \"orange\" in the string \"I like apple\".\n",
        "    ->print(\"I like apple\".replace(\"apple\", \"orange\"))\n"
      ],
      "metadata": {
        "id": "KQ4rBuyg6GEp"
      }
    },
    {
      "cell_type": "markdown",
      "source": [
        "6.Write a code to create a list with numbers 1 to 5 and print it.\n",
        "    ->print(list(range(1, 6)))"
      ],
      "metadata": {
        "id": "7tHoUTFG6NIg"
      }
    },
    {
      "cell_type": "markdown",
      "source": [
        "7.Write a code to append the number 10 to the list [1, 2, 3, 4].\n",
        "    ->lst = [1, 2, 3, 4]\n",
        "    lst.append(10)\n",
        "    print(lst)\n",
        "\n",
        "\n"
      ],
      "metadata": {
        "id": "3zt4KbNT6Y0f"
      }
    },
    {
      "cell_type": "markdown",
      "source": [
        "8.Write a code to remove the number 3 from the list [1, 2, 3, 4, 5].\n",
        "    ->lst = [1, 2, 3, 4, 5]\n",
        "    lst.remove(3)\n",
        "    print(lst)\n",
        "\n"
      ],
      "metadata": {
        "id": "z9ncZ-Zm6nUE"
      }
    },
    {
      "cell_type": "markdown",
      "source": [
        "9.Write a code to access the second element in the list ['a', 'b', 'c', 'd'].\n",
        "    ->print(['a', 'b', 'c', 'd'][1])"
      ],
      "metadata": {
        "id": "ZzQrbHAQ7GcO"
      }
    },
    {
      "cell_type": "markdown",
      "source": [
        "10.Write a code to reverse the list [10, 20, 30, 40, 50].\n",
        "    ->lst = [10, 20, 30, 40, 50]\n",
        "    lst.reverse()\n",
        "    print(lst)\n"
      ],
      "metadata": {
        "id": "HSLUFQAb7Mgf"
      }
    },
    {
      "cell_type": "markdown",
      "source": [
        "11.Write a code to create a tuple with the elements 100, 200, 300 and print it.\n",
        "    ->t = (100, 200, 300)\n",
        "    print(t)"
      ],
      "metadata": {
        "id": "aQAdLQVU7ctL"
      }
    },
    {
      "cell_type": "markdown",
      "source": [
        "12.Write a code to access the second-to-last element of the tuple ('red, 'green', 'blue', yellow).\n",
        "    ->colors = ('red', 'green', 'blue', 'yellow')\n",
        "    print(colors[-2])\n"
      ],
      "metadata": {
        "id": "jd8zhLYR7lp_"
      }
    },
    {
      "cell_type": "markdown",
      "source": [
        "13.Write a code to find the minimum number in the tuple (10, 20, 5, 15).\n",
        "    ->print(min((10, 20, 5, 15)))"
      ],
      "metadata": {
        "id": "3Ysf4iWU7uy3"
      }
    },
    {
      "cell_type": "markdown",
      "source": [
        "14.Write a code to find the index of the element \"cat\" in the tuple ('dog', 'cat', 'rabbit).\n",
        "    ->animals = ('dog', 'cat', 'rabbit')\n",
        "    print(animals.index('cat'))"
      ],
      "metadata": {
        "id": "fTlwhmwo71k2"
      }
    },
    {
      "cell_type": "markdown",
      "source": [
        "15.Write a code to create a tuple containing three different fruits and check if \"kiwi\" is in it.\n",
        "    ->fruits = (\"apple\", \"banana\", \"cherry\")\n",
        "    print(\"kiwi\" in fruits)\n"
      ],
      "metadata": {
        "id": "bz4Xz8OO79Uw"
      }
    },
    {
      "cell_type": "markdown",
      "source": [
        "16.Write a code to create a set with the elements 'a', 'b', 'c' and print it.\n",
        "    ->print(set(['a', 'b', 'c']))"
      ],
      "metadata": {
        "id": "8-VVifnA8F4d"
      }
    },
    {
      "cell_type": "markdown",
      "source": [
        "17.Write a code to clear all elements from the set {1, 2, 3, 4, 5}.\n",
        "    ->s = {1, 2, 3, 4, 5}\n",
        "    s.clear()\n",
        "    print(s)"
      ],
      "metadata": {
        "id": "UkXvwHRt8M1_"
      }
    },
    {
      "cell_type": "markdown",
      "source": [
        "18.Write a code to remove the element 4 from the set {1, 2, 3, 4}.\n",
        "    ->s = {1, 2, 3, 4}\n",
        "    s.remove(4)\n",
        "    print(s)"
      ],
      "metadata": {
        "id": "GZy6S_Wt8Vcr"
      }
    },
    {
      "cell_type": "markdown",
      "source": [
        "19.Write a code to find the union of two sets {1, 2, 3} and {3, 4, 5}.\n",
        "    ->print({1, 2, 3} | {3, 4, 5})"
      ],
      "metadata": {
        "id": "7epAlLaS8eHu"
      }
    },
    {
      "cell_type": "markdown",
      "source": [
        "20.Write a code to find the intersection of two sets {1, 2, 3} and {2, 3, 4}.\n",
        "    ->print({1, 2, 3} & {2, 3, 4})"
      ],
      "metadata": {
        "id": "TnwVJyu98l5k"
      }
    },
    {
      "cell_type": "markdown",
      "source": [
        "21.Write a code to create a dictionary with the keys \"name\", \"age\", and \"city\", and print it.\n",
        "    ->d = {\"name\": \"John\", \"age\": 25, \"city\": \"New York\"}\n",
        "    print(d)"
      ],
      "metadata": {
        "id": "jUH1Og0k8sTg"
      }
    },
    {
      "cell_type": "markdown",
      "source": [
        "22.Write a code to add a new key-value pair \"country\": \"USA\" to the dictionary {'name': 'John', 'age': 25}.\n",
        "    ->d = {\"name\": \"John\", \"age\": 25}\n",
        "    d[\"country\"] = \"USA\"\n",
        "    print(d)"
      ],
      "metadata": {
        "id": "AN0fAeGS80Aw"
      }
    },
    {
      "cell_type": "markdown",
      "source": [
        "23.Write a code to access the value associated with the key \"name\" in the dictionary {'name: 'Alice', 'age': 30}.\n",
        "    ->d = {\"name\": \"Alice\", \"age\": 30}\n",
        "    print(d[\"name\"])"
      ],
      "metadata": {
        "id": "hXixLTBG8_FX"
      }
    },
    {
      "cell_type": "markdown",
      "source": [
        "24.Write a code to remove the key \"age\" from the dictionary {'name: 'Bob', 'age': 22, 'city: 'New York'}.\n",
        "    ->d = {\"name\": \"Bob\", \"age\": 22, \"city\": \"New York\"}\n",
        "    d.pop(\"age\")\n",
        "    print(d)"
      ],
      "metadata": {
        "id": "Yvckh4rq9GBl"
      }
    },
    {
      "cell_type": "markdown",
      "source": [
        "25.Write a code to check if the key \"city\" exists in the dictionary {'name: 'Alice', 'city: Paris').\n",
        "    ->d = {\"name\": \"Alice\", \"city\": \"Paris\"}\n",
        "    print(\"city\" in d)"
      ],
      "metadata": {
        "id": "YmrmcECW9M1i"
      }
    },
    {
      "cell_type": "markdown",
      "source": [
        "26.Write a code to create a list, a tuple, and a dictionary, and print them all.\n",
        "    ->print([1, 2, 3], (1, 2, 3), {\"a\": 1, \"b\": 2})"
      ],
      "metadata": {
        "id": "2-MCJv5e9TQQ"
      }
    },
    {
      "cell_type": "markdown",
      "source": [
        "27.Write a code to create a list of 5 random numbers between 1 and 100, sort it in ascending order, and print the result.(replaced)\n",
        "    ->import random\n",
        "    nums = random.sample(range(1, 101), 5)\n",
        "    nums.sort()\n",
        "    print(nums)"
      ],
      "metadata": {
        "id": "m6hqGbG19buU"
      }
    },
    {
      "cell_type": "markdown",
      "source": [
        "28.Write a code to create a list with strings and print the element at the third index.\n",
        "    ->lst = [\"one\", \"two\", \"three\", \"four\"]\n",
        "    print(lst[2])\n"
      ],
      "metadata": {
        "id": "QiPOW1Qs9nNl"
      }
    },
    {
      "cell_type": "markdown",
      "source": [
        "29.Write a code to combine two dictionaries into one and print the result.\n",
        "    ->d1 = {\"a\": 1, \"b\": 2}\n",
        "    d2 = {\"c\": 3, \"d\": 4}\n",
        "    d1.update(d2)\n",
        "    print(d1)"
      ],
      "metadata": {
        "id": "V86mZaa-9xa7"
      }
    },
    {
      "cell_type": "markdown",
      "source": [
        "30.Write a code to convert a list of strings into a set.\n",
        "    ->print(set([\"apple\", \"banana\", \"apple\"]))"
      ],
      "metadata": {
        "id": "mSVVvxof95L4"
      }
    },
    {
      "cell_type": "code",
      "source": [],
      "metadata": {
        "id": "h4iUzRwu9ZuP"
      },
      "execution_count": null,
      "outputs": []
    }
  ]
}